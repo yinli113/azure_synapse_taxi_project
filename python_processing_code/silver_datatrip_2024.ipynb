{
 "cells": [
  {
   "cell_type": "code",
   "execution_count": 4,
   "metadata": {},
   "outputs": [
    {
     "name": "stdout",
     "output_type": "stream",
     "text": [
      "Saved to C:\\Users\\yin li\\OneDrive\\Desktop\\taxi_project\\silver_green_tripdata\\year=2024\\month=01\\data_2024_01.parquet\n",
      "Saved to C:\\Users\\yin li\\OneDrive\\Desktop\\taxi_project\\silver_green_tripdata\\year=2024\\month=02\\data_2024_02.parquet\n",
      "Saved to C:\\Users\\yin li\\OneDrive\\Desktop\\taxi_project\\silver_green_tripdata\\year=2024\\month=03\\data_2024_03.parquet\n",
      "Saved to C:\\Users\\yin li\\OneDrive\\Desktop\\taxi_project\\silver_green_tripdata\\year=2024\\month=04\\data_2024_04.parquet\n"
     ]
    }
   ],
   "source": [
    "import pandas as pd\n",
    "import os\n",
    "\n",
    "# Define the folder paths\n",
    "output_folder = r'C:\\Users\\yin li\\OneDrive\\Desktop\\taxi_project\\cleaned_data'\n",
    "silver_output_folder = r'C:\\Users\\yin li\\OneDrive\\Desktop\\taxi_project\\silver_green_tripdata'\n",
    "\n",
    "# Function to add month and day of week columns\n",
    "def add_date_columns(df):\n",
    "    df['pickup_month'] = df['lpep_pickup_datetime'].dt.month\n",
    "    df['pickup_day_of_week'] = df['lpep_pickup_datetime'].dt.day_name()\n",
    "    return df\n",
    "\n",
    "# Function to save DataFrame to Parquet file with structured path\n",
    "def save_to_parquet(df, year, month, output_folder):\n",
    "    month_str = f'{month:02d}'\n",
    "    path = os.path.join(output_folder, f'year={year}', f'month={month_str}')\n",
    "    os.makedirs(path, exist_ok=True)\n",
    "    file_path = os.path.join(path, f'data_{year}_{month_str}.parquet')\n",
    "    df.to_parquet(file_path)\n",
    "    print(f\"Saved to {file_path}\")\n",
    "\n",
    "# List all cleaned Parquet files in the output folder, filtering for year=2024\n",
    "all_files = []\n",
    "for year_folder in os.listdir(output_folder):\n",
    "    if year_folder == 'year=2024':  # Only process files from 2024\n",
    "        year_path = os.path.join(output_folder, year_folder)\n",
    "        if os.path.isdir(year_path):\n",
    "            for month_folder in os.listdir(year_path):\n",
    "                month_path = os.path.join(year_path, month_folder)\n",
    "                if os.path.isdir(month_path):\n",
    "                    for file in os.listdir(month_path):\n",
    "                        if file.endswith('.parquet'):\n",
    "                            all_files.append(os.path.join(month_path, file))\n",
    "\n",
    "# Read, add columns, and save each Parquet file\n",
    "for file in all_files:\n",
    "    df = pd.read_parquet(file)\n",
    "    df_with_dates = add_date_columns(df)\n",
    "    year = 2024\n",
    "    month = df_with_dates['pickup_month'].iloc[0]\n",
    "    save_to_parquet(df_with_dates, year, month, silver_output_folder)\n"
   ]
  }
 ],
 "metadata": {
  "kernelspec": {
   "display_name": "Python 3",
   "language": "python",
   "name": "python3"
  },
  "language_info": {
   "codemirror_mode": {
    "name": "ipython",
    "version": 3
   },
   "file_extension": ".py",
   "mimetype": "text/x-python",
   "name": "python",
   "nbconvert_exporter": "python",
   "pygments_lexer": "ipython3",
   "version": "3.12.4"
  }
 },
 "nbformat": 4,
 "nbformat_minor": 2
}
